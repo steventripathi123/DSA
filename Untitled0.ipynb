{
  "nbformat": 4,
  "nbformat_minor": 0,
  "metadata": {
    "colab": {
      "provenance": [],
      "authorship_tag": "ABX9TyOR8/UPMvhcB6h9bzwdbVN2",
      "include_colab_link": true
    },
    "kernelspec": {
      "name": "python3",
      "display_name": "Python 3"
    },
    "language_info": {
      "name": "python"
    }
  },
  "cells": [
    {
      "cell_type": "markdown",
      "metadata": {
        "id": "view-in-github",
        "colab_type": "text"
      },
      "source": [
        "<a href=\"https://colab.research.google.com/github/steventripathi123/DSA/blob/main/Untitled0.ipynb\" target=\"_parent\"><img src=\"https://colab.research.google.com/assets/colab-badge.svg\" alt=\"Open In Colab\"/></a>"
      ]
    },
    {
      "cell_type": "code",
      "execution_count": 1,
      "metadata": {
        "colab": {
          "base_uri": "https://localhost:8080/"
        },
        "id": "s3KL-H-_q1LF",
        "outputId": "57c9e747-7b01-4601-e9c7-80f7837c69d8"
      },
      "outputs": [
        {
          "output_type": "stream",
          "name": "stdout",
          "text": [
            "Enter the start of the range: 0\n",
            "Enter the end of the range: 20\n",
            "Prime numbers between 0 and 20: [2, 3, 5, 7, 11, 13, 17, 19]\n"
          ]
        }
      ],
      "source": [
        "#Write a program to find prime number with in a range using function.\n",
        "def is_prime(num):\n",
        "    \"\"\"Check if a number is prime.\"\"\"\n",
        "    if num < 2:\n",
        "        return False\n",
        "    for i in range(2, int(num**0.5) + 1):\n",
        "        if num % i == 0:\n",
        "            return False\n",
        "    return True\n",
        "\n",
        "def find_primes_in_range(start, end):\n",
        "    \"\"\"Find prime numbers within the specified range.\"\"\"\n",
        "    primes = []\n",
        "    for number in range(start, end + 1):\n",
        "        if is_prime(number):\n",
        "            primes.append(number)\n",
        "    return primes\n",
        "\n",
        "# Input range from the user\n",
        "start_range = int(input(\"Enter the start of the range: \"))\n",
        "end_range = int(input(\"Enter the end of the range: \"))\n",
        "\n",
        "# Find and display prime numbers within the specified range\n",
        "prime_numbers = find_primes_in_range(start_range, end_range)\n",
        "print(f\"Prime numbers between {start_range} and {end_range}: {prime_numbers}\")\n"
      ]
    }
  ]
}